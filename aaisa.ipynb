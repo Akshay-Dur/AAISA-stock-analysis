{
 "cells": [
  {
   "cell_type": "code",
   "execution_count": 90,
   "id": "647be443",
   "metadata": {},
   "outputs": [
    {
     "data": {
      "text/plain": [
       "'Please note that upon running, my code obtains updated information from the Yahoo finance site. \\nTherefore you would need an internet connection to run this code. You would also need the pandas and \\nmatplotlib packages installed'"
      ]
     },
     "execution_count": 90,
     "metadata": {},
     "output_type": "execute_result"
    }
   ],
   "source": [
    "'''Please note that upon running, my code obtains updated information from the Yahoo finance site. \n",
    "Therefore you would need an internet connection to run this code. You would also need the pandas and \n",
    "matplotlib packages installed''' "
   ]
  },
  {
   "cell_type": "code",
   "execution_count": 91,
   "id": "9fa433a4",
   "metadata": {},
   "outputs": [],
   "source": [
    "import pandas as pd\n",
    "import matplotlib as plt"
   ]
  },
  {
   "cell_type": "code",
   "execution_count": 92,
   "id": "209e6359",
   "metadata": {},
   "outputs": [],
   "source": [
    "url='https://query1.finance.yahoo.com/v7/finance/download/AAISA.SN?period1=1655856000&period2=1712966400&interval=1d&events=history&includeAdjustedClose=true'\n",
    "df=pd.read_csv(url)"
   ]
  },
  {
   "cell_type": "code",
   "execution_count": 93,
   "id": "02dc9941",
   "metadata": {},
   "outputs": [
    {
     "data": {
      "text/html": [
       "<div>\n",
       "<style scoped>\n",
       "    .dataframe tbody tr th:only-of-type {\n",
       "        vertical-align: middle;\n",
       "    }\n",
       "\n",
       "    .dataframe tbody tr th {\n",
       "        vertical-align: top;\n",
       "    }\n",
       "\n",
       "    .dataframe thead th {\n",
       "        text-align: right;\n",
       "    }\n",
       "</style>\n",
       "<table border=\"1\" class=\"dataframe\">\n",
       "  <thead>\n",
       "    <tr style=\"text-align: right;\">\n",
       "      <th></th>\n",
       "      <th>Date</th>\n",
       "      <th>Open</th>\n",
       "      <th>High</th>\n",
       "      <th>Low</th>\n",
       "      <th>Close</th>\n",
       "      <th>Adj Close</th>\n",
       "      <th>Volume</th>\n",
       "    </tr>\n",
       "  </thead>\n",
       "  <tbody>\n",
       "    <tr>\n",
       "      <th>0</th>\n",
       "      <td>2022-06-22</td>\n",
       "      <td>171.000000</td>\n",
       "      <td>180.000000</td>\n",
       "      <td>180.000000</td>\n",
       "      <td>179.669998</td>\n",
       "      <td>165.940720</td>\n",
       "      <td>3550</td>\n",
       "    </tr>\n",
       "    <tr>\n",
       "      <th>1</th>\n",
       "      <td>2022-06-23</td>\n",
       "      <td>180.000000</td>\n",
       "      <td>180.000000</td>\n",
       "      <td>179.990005</td>\n",
       "      <td>179.339996</td>\n",
       "      <td>165.635941</td>\n",
       "      <td>105902</td>\n",
       "    </tr>\n",
       "    <tr>\n",
       "      <th>2</th>\n",
       "      <td>2022-06-24</td>\n",
       "      <td>179.429993</td>\n",
       "      <td>179.500000</td>\n",
       "      <td>179.429993</td>\n",
       "      <td>179.339996</td>\n",
       "      <td>165.635941</td>\n",
       "      <td>13320</td>\n",
       "    </tr>\n",
       "    <tr>\n",
       "      <th>3</th>\n",
       "      <td>2022-06-28</td>\n",
       "      <td>179.699997</td>\n",
       "      <td>175.000000</td>\n",
       "      <td>175.000000</td>\n",
       "      <td>179.339996</td>\n",
       "      <td>165.635941</td>\n",
       "      <td>31063</td>\n",
       "    </tr>\n",
       "    <tr>\n",
       "      <th>4</th>\n",
       "      <td>2022-06-29</td>\n",
       "      <td>179.339996</td>\n",
       "      <td>179.339996</td>\n",
       "      <td>179.339996</td>\n",
       "      <td>179.339996</td>\n",
       "      <td>165.635941</td>\n",
       "      <td>0</td>\n",
       "    </tr>\n",
       "    <tr>\n",
       "      <th>...</th>\n",
       "      <td>...</td>\n",
       "      <td>...</td>\n",
       "      <td>...</td>\n",
       "      <td>...</td>\n",
       "      <td>...</td>\n",
       "      <td>...</td>\n",
       "      <td>...</td>\n",
       "    </tr>\n",
       "    <tr>\n",
       "      <th>445</th>\n",
       "      <td>2024-04-08</td>\n",
       "      <td>199.000000</td>\n",
       "      <td>199.000000</td>\n",
       "      <td>199.000000</td>\n",
       "      <td>198.949997</td>\n",
       "      <td>198.949997</td>\n",
       "      <td>89711</td>\n",
       "    </tr>\n",
       "    <tr>\n",
       "      <th>446</th>\n",
       "      <td>2024-04-09</td>\n",
       "      <td>199.000000</td>\n",
       "      <td>199.000000</td>\n",
       "      <td>199.000000</td>\n",
       "      <td>199.000000</td>\n",
       "      <td>199.000000</td>\n",
       "      <td>578474</td>\n",
       "    </tr>\n",
       "    <tr>\n",
       "      <th>447</th>\n",
       "      <td>2024-04-10</td>\n",
       "      <td>199.000000</td>\n",
       "      <td>198.899994</td>\n",
       "      <td>197.000000</td>\n",
       "      <td>197.020004</td>\n",
       "      <td>197.020004</td>\n",
       "      <td>179431</td>\n",
       "    </tr>\n",
       "    <tr>\n",
       "      <th>448</th>\n",
       "      <td>2024-04-11</td>\n",
       "      <td>197.000000</td>\n",
       "      <td>197.000000</td>\n",
       "      <td>196.000000</td>\n",
       "      <td>196.360001</td>\n",
       "      <td>196.360001</td>\n",
       "      <td>186754</td>\n",
       "    </tr>\n",
       "    <tr>\n",
       "      <th>449</th>\n",
       "      <td>2024-04-12</td>\n",
       "      <td>196.360001</td>\n",
       "      <td>196.000000</td>\n",
       "      <td>195.000000</td>\n",
       "      <td>195.050003</td>\n",
       "      <td>195.050003</td>\n",
       "      <td>282414</td>\n",
       "    </tr>\n",
       "  </tbody>\n",
       "</table>\n",
       "<p>450 rows × 7 columns</p>\n",
       "</div>"
      ],
      "text/plain": [
       "           Date        Open        High         Low       Close   Adj Close  \\\n",
       "0    2022-06-22  171.000000  180.000000  180.000000  179.669998  165.940720   \n",
       "1    2022-06-23  180.000000  180.000000  179.990005  179.339996  165.635941   \n",
       "2    2022-06-24  179.429993  179.500000  179.429993  179.339996  165.635941   \n",
       "3    2022-06-28  179.699997  175.000000  175.000000  179.339996  165.635941   \n",
       "4    2022-06-29  179.339996  179.339996  179.339996  179.339996  165.635941   \n",
       "..          ...         ...         ...         ...         ...         ...   \n",
       "445  2024-04-08  199.000000  199.000000  199.000000  198.949997  198.949997   \n",
       "446  2024-04-09  199.000000  199.000000  199.000000  199.000000  199.000000   \n",
       "447  2024-04-10  199.000000  198.899994  197.000000  197.020004  197.020004   \n",
       "448  2024-04-11  197.000000  197.000000  196.000000  196.360001  196.360001   \n",
       "449  2024-04-12  196.360001  196.000000  195.000000  195.050003  195.050003   \n",
       "\n",
       "     Volume  \n",
       "0      3550  \n",
       "1    105902  \n",
       "2     13320  \n",
       "3     31063  \n",
       "4         0  \n",
       "..      ...  \n",
       "445   89711  \n",
       "446  578474  \n",
       "447  179431  \n",
       "448  186754  \n",
       "449  282414  \n",
       "\n",
       "[450 rows x 7 columns]"
      ]
     },
     "execution_count": 93,
     "metadata": {},
     "output_type": "execute_result"
    }
   ],
   "source": [
    "df #Here lies the data from the source of raw data. This was obtained from yahoo finance."
   ]
  },
  {
   "cell_type": "code",
   "execution_count": 94,
   "id": "406b2424",
   "metadata": {},
   "outputs": [
    {
     "data": {
      "text/plain": [
       "Text(0, 0.5, 'Price')"
      ]
     },
     "execution_count": 94,
     "metadata": {},
     "output_type": "execute_result"
    },
    {
     "data": {
      "image/png": "[encoded data removed]",
      "text/plain": [
       "<Figure size 640x480 with 1 Axes>"
      ]
     },
     "metadata": {},
     "output_type": "display_data"
    }
   ],
   "source": [
    "plot=df.plot(y=['Open'], x='Date')\n",
    "plot.set_ylabel(\"Price\")"
   ]
  },
  {
   "cell_type": "code",
   "execution_count": null,
   "id": "4afd8a4b",
   "metadata": {},
   "outputs": [],
   "source": []
  }
 ],
 "metadata": {
  "kernelspec": {
   "display_name": "Python 3 (ipykernel)",
   "language": "python",
   "name": "python3"
  },
  "language_info": {
   "codemirror_mode": {
    "name": "ipython",
    "version": 3
   },
   "file_extension": ".py",
   "mimetype": "text/x-python",
   "name": "python",
   "nbconvert_exporter": "python",
   "pygments_lexer": "ipython3",
   "version": "3.11.8"
  }
 },
 "nbformat": 4,
 "nbformat_minor": 5
}
